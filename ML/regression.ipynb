{
 "metadata": {
  "language_info": {
   "codemirror_mode": {
    "name": "ipython",
    "version": 3
   },
   "file_extension": ".py",
   "mimetype": "text/x-python",
   "name": "python",
   "nbconvert_exporter": "python",
   "pygments_lexer": "ipython3",
   "version": "3.8.5-final"
  },
  "orig_nbformat": 2,
  "kernelspec": {
   "name": "python38564bitaf0a248642444d95b3308d5cb8b153d4",
   "display_name": "Python 3.8.5 64-bit"
  },
  "metadata": {
   "interpreter": {
    "hash": "31f2aee4e71d21fbe5cf8b01ff0e069b9275f58929596ceb00d14d90e3e16cd6"
   }
  }
 },
 "nbformat": 4,
 "nbformat_minor": 2,
 "cells": [
  {
   "cell_type": "code",
   "execution_count": 1,
   "metadata": {},
   "outputs": [],
   "source": [
    "import pandas as pd\n",
    "import numpy as np\n",
    "import seaborn as sns\n",
    "import matplotlib.pyplot as plt\n",
    "from sklearn.model_selection import train_test_split\n",
    "from sklearn.linear_model import LinearRegression\n",
    "from sklearn.linear_model import LogisticRegression\n",
    "from sklearn.ensemble import RandomForestRegressor\n",
    "from sklearn.metrics import mean_squared_error\n",
    "from sklearn.metrics import confusion_matrix\n",
    "from sklearn.metrics import classification_report\n",
    "from sklearn.metrics import precision_score\n",
    "from sklearn.metrics import recall_score\n",
    "from sklearn.metrics import fbeta_score\n",
    "from sklearn.metrics import r2_score\n",
    "from sklearn.cluster import KMeans\n",
    "from sklearn import metrics\n",
    "from sklearn.metrics import silhouette_score\n",
    "from sklearn.tree import DecisionTreeRegressor\n",
    "from sklearn import preprocessing\n"
   ]
  },
  {
   "cell_type": "code",
   "execution_count": 4,
   "metadata": {},
   "outputs": [],
   "source": [
    "treino_c = pd.read_csv(\"data/regression_train.csv\")"
   ]
  },
  {
   "cell_type": "code",
   "execution_count": 5,
   "metadata": {},
   "outputs": [],
   "source": [
    "teste_c = pd.read_csv(\"data/regression_test.csv\")"
   ]
  },
  {
   "cell_type": "code",
   "execution_count": 6,
   "metadata": {},
   "outputs": [
    {
     "output_type": "execute_result",
     "data": {
      "text/plain": [
       "        target        X1         X2         X3        X4         X5  X6  \\\n",
       "0          NaN -0.546168        NaN  47.063305  1.611370 -65.882137   0   \n",
       "1    47.735389  3.074317  -2.836000  49.396649  0.261998 -66.570716   0   \n",
       "2          NaN -1.485531 -13.102537  42.367991  3.991558 -67.108014   8   \n",
       "3   908.202209  6.907396  -0.308967  57.228787  0.256771 -66.181266   5   \n",
       "4  1640.461863  1.916788   3.460290  51.703375  2.463790 -65.143663   5   \n",
       "\n",
       "          X7  \n",
       "0 -16.672865  \n",
       "1  -6.664599  \n",
       "2 -30.790962  \n",
       "3  -0.726072  \n",
       "4   8.131680  "
      ],
      "text/html": "<div>\n<style scoped>\n    .dataframe tbody tr th:only-of-type {\n        vertical-align: middle;\n    }\n\n    .dataframe tbody tr th {\n        vertical-align: top;\n    }\n\n    .dataframe thead th {\n        text-align: right;\n    }\n</style>\n<table border=\"1\" class=\"dataframe\">\n  <thead>\n    <tr style=\"text-align: right;\">\n      <th></th>\n      <th>target</th>\n      <th>X1</th>\n      <th>X2</th>\n      <th>X3</th>\n      <th>X4</th>\n      <th>X5</th>\n      <th>X6</th>\n      <th>X7</th>\n    </tr>\n  </thead>\n  <tbody>\n    <tr>\n      <th>0</th>\n      <td>NaN</td>\n      <td>-0.546168</td>\n      <td>NaN</td>\n      <td>47.063305</td>\n      <td>1.611370</td>\n      <td>-65.882137</td>\n      <td>0</td>\n      <td>-16.672865</td>\n    </tr>\n    <tr>\n      <th>1</th>\n      <td>47.735389</td>\n      <td>3.074317</td>\n      <td>-2.836000</td>\n      <td>49.396649</td>\n      <td>0.261998</td>\n      <td>-66.570716</td>\n      <td>0</td>\n      <td>-6.664599</td>\n    </tr>\n    <tr>\n      <th>2</th>\n      <td>NaN</td>\n      <td>-1.485531</td>\n      <td>-13.102537</td>\n      <td>42.367991</td>\n      <td>3.991558</td>\n      <td>-67.108014</td>\n      <td>8</td>\n      <td>-30.790962</td>\n    </tr>\n    <tr>\n      <th>3</th>\n      <td>908.202209</td>\n      <td>6.907396</td>\n      <td>-0.308967</td>\n      <td>57.228787</td>\n      <td>0.256771</td>\n      <td>-66.181266</td>\n      <td>5</td>\n      <td>-0.726072</td>\n    </tr>\n    <tr>\n      <th>4</th>\n      <td>1640.461863</td>\n      <td>1.916788</td>\n      <td>3.460290</td>\n      <td>51.703375</td>\n      <td>2.463790</td>\n      <td>-65.143663</td>\n      <td>5</td>\n      <td>8.131680</td>\n    </tr>\n  </tbody>\n</table>\n</div>"
     },
     "metadata": {},
     "execution_count": 6
    }
   ],
   "source": [
    "treino_c.head()"
   ]
  },
  {
   "cell_type": "code",
   "execution_count": 7,
   "metadata": {},
   "outputs": [
    {
     "output_type": "execute_result",
     "data": {
      "text/plain": [
       "             target           X1           X2           X3           X4  \\\n",
       "count    715.000000  1042.000000  1031.000000  1042.000000  1042.000000   \n",
       "mean    1349.940229     2.421925    -0.460781    52.094329     2.462871   \n",
       "std     1593.201095     3.182976     4.426286    31.374828     2.541632   \n",
       "min        0.062551    -8.699406   -13.651540    38.035456     0.002360   \n",
       "25%      230.632308     0.170590    -3.307931    47.087106     0.671196   \n",
       "50%      808.374368     2.508671    -0.461150    49.972867     1.652609   \n",
       "75%     1849.754221     4.540218     2.406651    52.674305     3.361181   \n",
       "max    10382.469480    12.380693    12.926106   500.000000    18.813009   \n",
       "\n",
       "                X5           X6           X7  \n",
       "count  1042.000000  1042.000000  1042.000000  \n",
       "mean    -65.284233     4.381958    -1.287435  \n",
       "std       9.033489     3.290306    11.066380  \n",
       "min    -121.450423     0.000000   -69.835905  \n",
       "25%     -69.126630     0.000000    -7.830007  \n",
       "50%     -65.360660     5.000000    -1.074191  \n",
       "75%     -61.187635     8.000000     5.659476  \n",
       "max      53.919202     8.000000    30.376348  "
      ],
      "text/html": "<div>\n<style scoped>\n    .dataframe tbody tr th:only-of-type {\n        vertical-align: middle;\n    }\n\n    .dataframe tbody tr th {\n        vertical-align: top;\n    }\n\n    .dataframe thead th {\n        text-align: right;\n    }\n</style>\n<table border=\"1\" class=\"dataframe\">\n  <thead>\n    <tr style=\"text-align: right;\">\n      <th></th>\n      <th>target</th>\n      <th>X1</th>\n      <th>X2</th>\n      <th>X3</th>\n      <th>X4</th>\n      <th>X5</th>\n      <th>X6</th>\n      <th>X7</th>\n    </tr>\n  </thead>\n  <tbody>\n    <tr>\n      <th>count</th>\n      <td>715.000000</td>\n      <td>1042.000000</td>\n      <td>1031.000000</td>\n      <td>1042.000000</td>\n      <td>1042.000000</td>\n      <td>1042.000000</td>\n      <td>1042.000000</td>\n      <td>1042.000000</td>\n    </tr>\n    <tr>\n      <th>mean</th>\n      <td>1349.940229</td>\n      <td>2.421925</td>\n      <td>-0.460781</td>\n      <td>52.094329</td>\n      <td>2.462871</td>\n      <td>-65.284233</td>\n      <td>4.381958</td>\n      <td>-1.287435</td>\n    </tr>\n    <tr>\n      <th>std</th>\n      <td>1593.201095</td>\n      <td>3.182976</td>\n      <td>4.426286</td>\n      <td>31.374828</td>\n      <td>2.541632</td>\n      <td>9.033489</td>\n      <td>3.290306</td>\n      <td>11.066380</td>\n    </tr>\n    <tr>\n      <th>min</th>\n      <td>0.062551</td>\n      <td>-8.699406</td>\n      <td>-13.651540</td>\n      <td>38.035456</td>\n      <td>0.002360</td>\n      <td>-121.450423</td>\n      <td>0.000000</td>\n      <td>-69.835905</td>\n    </tr>\n    <tr>\n      <th>25%</th>\n      <td>230.632308</td>\n      <td>0.170590</td>\n      <td>-3.307931</td>\n      <td>47.087106</td>\n      <td>0.671196</td>\n      <td>-69.126630</td>\n      <td>0.000000</td>\n      <td>-7.830007</td>\n    </tr>\n    <tr>\n      <th>50%</th>\n      <td>808.374368</td>\n      <td>2.508671</td>\n      <td>-0.461150</td>\n      <td>49.972867</td>\n      <td>1.652609</td>\n      <td>-65.360660</td>\n      <td>5.000000</td>\n      <td>-1.074191</td>\n    </tr>\n    <tr>\n      <th>75%</th>\n      <td>1849.754221</td>\n      <td>4.540218</td>\n      <td>2.406651</td>\n      <td>52.674305</td>\n      <td>3.361181</td>\n      <td>-61.187635</td>\n      <td>8.000000</td>\n      <td>5.659476</td>\n    </tr>\n    <tr>\n      <th>max</th>\n      <td>10382.469480</td>\n      <td>12.380693</td>\n      <td>12.926106</td>\n      <td>500.000000</td>\n      <td>18.813009</td>\n      <td>53.919202</td>\n      <td>8.000000</td>\n      <td>30.376348</td>\n    </tr>\n  </tbody>\n</table>\n</div>"
     },
     "metadata": {},
     "execution_count": 7
    }
   ],
   "source": [
    "treino_c.describe()"
   ]
  },
  {
   "cell_type": "code",
   "execution_count": 8,
   "metadata": {},
   "outputs": [],
   "source": [
    "treino_c.fillna(treino_c.mean(), inplace=True)\n",
    "teste_c.fillna(teste_c.mean(), inplace=True)"
   ]
  },
  {
   "cell_type": "code",
   "execution_count": 9,
   "metadata": {},
   "outputs": [],
   "source": [
    "X_train = treino_c.drop(columns = 'target')\n",
    "y_train = treino_c[['target']]\n",
    "X_test = teste_c.drop(columns = 'target')\n",
    "y_test = teste_c[['target']]"
   ]
  },
  {
   "cell_type": "code",
   "execution_count": 10,
   "metadata": {},
   "outputs": [
    {
     "output_type": "stream",
     "name": "stderr",
     "text": [
      "<ipython-input-10-80586189879d>:2: DataConversionWarning: A column-vector y was passed when a 1d array was expected. Please change the shape of y to (n_samples,), for example using ravel().\n  rforest_c.fit(X_train, y_train)\n"
     ]
    }
   ],
   "source": [
    "rforest_c = RandomForestRegressor()\n",
    "rforest_c.fit(X_train, y_train)\n",
    "pred = rforest_c.predict(X_test)"
   ]
  },
  {
   "cell_type": "code",
   "execution_count": 11,
   "metadata": {},
   "outputs": [
    {
     "output_type": "stream",
     "name": "stdout",
     "text": [
      "RMSE: 370.36\nR2: 0.88\n"
     ]
    }
   ],
   "source": [
    "print('RMSE: {:.2f}' .format(np.sqrt(mean_squared_error(y_test, pred))))\n",
    "print('R2: {:.2f}' .format(r2_score(y_test, pred)))"
   ]
  },
  {
   "cell_type": "code",
   "execution_count": 12,
   "metadata": {},
   "outputs": [
    {
     "output_type": "stream",
     "name": "stderr",
     "text": [
      "<ipython-input-12-110734178115>:1: SettingWithCopyWarning: \nA value is trying to be set on a copy of a slice from a DataFrame.\nTry using .loc[row_indexer,col_indexer] = value instead\n\nSee the caveats in the documentation: https://pandas.pydata.org/pandas-docs/stable/user_guide/indexing.html#returning-a-view-versus-a-copy\n  y_test['pred'] = pred\n"
     ]
    },
    {
     "output_type": "execute_result",
     "data": {
      "text/plain": [
       "          target      pred\n",
       "target  1.000000  0.939183\n",
       "pred    0.939183  1.000000"
      ],
      "text/html": "<div>\n<style scoped>\n    .dataframe tbody tr th:only-of-type {\n        vertical-align: middle;\n    }\n\n    .dataframe tbody tr th {\n        vertical-align: top;\n    }\n\n    .dataframe thead th {\n        text-align: right;\n    }\n</style>\n<table border=\"1\" class=\"dataframe\">\n  <thead>\n    <tr style=\"text-align: right;\">\n      <th></th>\n      <th>target</th>\n      <th>pred</th>\n    </tr>\n  </thead>\n  <tbody>\n    <tr>\n      <th>target</th>\n      <td>1.000000</td>\n      <td>0.939183</td>\n    </tr>\n    <tr>\n      <th>pred</th>\n      <td>0.939183</td>\n      <td>1.000000</td>\n    </tr>\n  </tbody>\n</table>\n</div>"
     },
     "metadata": {},
     "execution_count": 12
    }
   ],
   "source": [
    "y_test['pred'] = pred\n",
    "y_test.corr()"
   ]
  },
  {
   "cell_type": "code",
   "execution_count": 13,
   "metadata": {},
   "outputs": [
    {
     "output_type": "stream",
     "name": "stdout",
     "text": [
      "Variável X1, Importance: 0.036\nVariável X2, Importance: 0.643\nVariável X3, Importance: 0.012\nVariável X4, Importance: 0.014\nVariável X5, Importance: 0.005\nVariável X6, Importance: 0.003\nVariável X7, Importance: 0.286\n"
     ]
    }
   ],
   "source": [
    "k = 1\n",
    "for i in rforest_c.feature_importances_:\n",
    "  print('Variável X{}, Importance: {:.3f}' .format(k,i))\n",
    "  k = k+1"
   ]
  },
  {
   "cell_type": "code",
   "execution_count": null,
   "metadata": {},
   "outputs": [],
   "source": []
  }
 ]
}